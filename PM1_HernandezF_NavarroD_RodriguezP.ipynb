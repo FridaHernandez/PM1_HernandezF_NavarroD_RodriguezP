{
 "cells": [
  {
   "attachments": {},
   "cell_type": "markdown",
   "metadata": {},
   "source": [
    "# Proyecto de optimizacion en la inversión de CETES\n",
    "\n",
    "## Objetivos\n",
    "\n",
    "> ### General\n",
    "+ Encontrar el mayor rendimiento de inversión, comprando tasas y plazos en distintos bonos y cetes\n",
    "\n",
    "> ### Específicos\n",
    "+ Obtener el rendimiento máximo utilizando optimización \n",
    "+ Encontrar una función objetivo optimizada que nos muestre los mejores puntos de inversion y la ganancia total\n",
    "\n",
    "## Modelo que representa el problema"
   ]
  }
 ],
 "metadata": {
  "kernelspec": {
   "display_name": "Python 3",
   "language": "python",
   "name": "python3"
  },
  "language_info": {
   "codemirror_mode": {
    "name": "ipython",
    "version": 3
   },
   "file_extension": ".py",
   "mimetype": "text/x-python",
   "name": "python",
   "nbconvert_exporter": "python",
   "pygments_lexer": "ipython3",
   "version": "3.7.3"
  }
 },
 "nbformat": 4,
 "nbformat_minor": 2
}
