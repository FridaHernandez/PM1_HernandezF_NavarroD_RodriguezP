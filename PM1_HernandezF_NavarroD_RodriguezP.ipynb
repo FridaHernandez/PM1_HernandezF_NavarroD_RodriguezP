{
 "cells": [
  {
   "cell_type": "markdown",
   "metadata": {},
   "source": [
    "# Proyecto de optimizacion en la inversión de CETES\n",
    "\n",
    "## Objetivos\n",
    "\n",
    "> ### General\n",
    "+ Encontrar el mayor rendimiento de inversión, comprando tasas y plazos en distintos bonos y cetes\n",
    "\n",
    "> ### Específicos\n",
    "+ Obtener el rendimiento máximo utilizando optimización \n",
    "+ Encontrar una función objetivo optimizada que nos muestre los mejores puntos de inversion y la ganancia total\n"
   ]
  },
  {
   "cell_type": "markdown",
   "metadata": {},
   "source": [
    "## Modelo que representa el problema\n",
    "\n",
    "Un inversionesta cuenta con 3´000,000 de pesos y los quiere meter a CETES, en la página oficial del [Banco de México](https://www.banxico.org.mx/dyn/) el 30 de septiembre encontró que la oferta de CETES es la siguiente.\n",
    "+ 28 días con una tasa del 7.61% se asignó una oferta de 6,000 millones de CETES\n",
    "+ 91 días con una tasa del 7.59% se asignó una oferta de 11,000 millones de CETES\n",
    "+ 182 días con una tasa del 7.45% se asignó una oferta de 13,000 millones de CETES\n",
    "+ 336 días con una tasa del 7.39% se asignó una oferta de 14,500 millones de CETES\n",
    "\n",
    "Con los datos anteriores, se busca maximizar el rendimiento del inversionista, siempre y cuando su inversión en algún CETE sea menor al 50%"
   ]
  },
  {
   "cell_type": "markdown",
   "metadata": {},
   "source": [
    "Sabemos que los CETES tienen un valor nominal de 10 pesos MX, si queremos saber cual es el precio de cada CETE tenemos la siguite formula de valor presente:\n",
    "\n",
    "$$10/(Plazo/360)tasa+1$$\n",
    "\n",
    "Entonces sacamos el precio de cada CETE y tenemos que:\n",
    "+ CETES a 28 dias = $9.9412\n",
    "\n",
    "+ CETES a 91 dias = $9.8118\n",
    "\n",
    "+ CETES a 182 dias = $9.6370\n",
    "\n",
    "+ CETES a 336 dias = $9.3548"
   ]
  }
 ],
 "metadata": {
  "kernelspec": {
   "display_name": "Python 3",
   "language": "python",
   "name": "python3"
  },
  "language_info": {
   "codemirror_mode": {
    "name": "ipython",
    "version": 3
   },
   "file_extension": ".py",
   "mimetype": "text/x-python",
   "name": "python",
   "nbconvert_exporter": "python",
   "pygments_lexer": "ipython3",
   "version": "3.7.3"
  }
 },
 "nbformat": 4,
 "nbformat_minor": 2
}
